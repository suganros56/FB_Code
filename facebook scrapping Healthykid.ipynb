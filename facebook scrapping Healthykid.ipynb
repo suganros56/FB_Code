{
 "cells": [
  {
   "cell_type": "code",
   "execution_count": 1,
   "metadata": {},
   "outputs": [],
   "source": [
    "import requests\n",
    "import bs4 as BeautifulSoup\n",
    "import pandas as pd\n",
    "from selenium import webdriver\n",
    "from selenium.webdriver.chrome.options import Options\n",
    "options = Options()\n",
    "options.page_load_strategy = 'normal'\n",
    "driver = webdriver.Chrome(options=options)"
   ]
  },
  {
   "cell_type": "code",
   "execution_count": 2,
   "metadata": {},
   "outputs": [],
   "source": [
    "%store -r pw\n",
    "password=pw"
   ]
  },
  {
   "cell_type": "code",
   "execution_count": 3,
   "metadata": {},
   "outputs": [],
   "source": [
    "driver.get('https://www.facebook.com/trawelloHealthyKID/posts/187159509408949?__xts__[0]=68.ARB5f3wkE6UTgwZ1NBMQm-2Ew9aTvfwj9l0MFtVUyhMsY4CQ1PIqWdNSJB40Wx9DfcR5aLol5wJLZCRXu-KzLMLx4H80O6La-243-F4o-CDXQ6tmzaQQHDgeUWjANULgEzfUnj8ZwHVwGCL9_JjIN5Xx1khcO8FE2DErLuADKBXS_edIMLWRcpBruCssful3AKgp0fIwzSa8XvhsuyhTnPPiJJYkMN2eCyborSY2Bg_r1DgQDFNl3aaVCcCUwJevM-oKZwAorO1iOBrqY07T8irdFU4KCCxJOpi3wkBW95a95j-E9gp6YtxABa1zGZRn0F3zm1yF-z9biPU5M-24VtE&__tn__=-R')"
   ]
  },
  {
   "cell_type": "code",
   "execution_count": null,
   "metadata": {},
   "outputs": [],
   "source": []
  },
  {
   "cell_type": "code",
   "execution_count": 4,
   "metadata": {},
   "outputs": [],
   "source": [
    "%store -r pw\n",
    "username=driver.find_element_by_xpath('//*[@id=\"email\"]')\n",
    "username.send_keys('suganros52@gmail.com')\n",
    "pw=driver.find_element_by_xpath('//*[@id=\"pass\"]')\n",
    "pw.send_keys(password)\n",
    "driver.find_element_by_xpath('//*[@id=\"loginbutton\"]').click()"
   ]
  },
  {
   "cell_type": "code",
   "execution_count": 5,
   "metadata": {},
   "outputs": [],
   "source": [
    "driver.find_element_by_xpath('//*[@id=\"mount_0_0\"]/div/div/div[1]/div[3]/div/div/div[1]/div/div[4]/div[1]/div/div/div/div/div/div/div/div/div[1]/div/div[2]/div/div[5]/div/div/div[2]/div[2]/div/div/span').click()\n",
    "driver.find_element_by_xpath('//*[@id=\"mount_0_0\"]/div/div/div[1]/div[3]/div/div/div[2]/div/div/div[1]/div[1]/div/div/div[1]/div/div/div[1]/div[2]/div[1]/div').click()"
   ]
  },
  {
   "cell_type": "code",
   "execution_count": 6,
   "metadata": {},
   "outputs": [],
   "source": [
    "from bs4 import BeautifulSoup\n",
    "import requests as re\n",
    "import numpy as np"
   ]
  },
  {
   "cell_type": "code",
   "execution_count": 7,
   "metadata": {},
   "outputs": [
    {
     "name": "stdout",
     "output_type": "stream",
     "text": [
      "1\n",
      "2\n",
      "3\n",
      "4\n",
      "5\n",
      "6\n",
      "7\n",
      "8\n",
      "9\n",
      "10\n",
      "11\n",
      "12\n",
      "13\n",
      "14\n",
      "15\n",
      "16\n",
      "17\n",
      "18\n",
      "19\n",
      "20\n",
      "21\n"
     ]
    }
   ],
   "source": [
    "import time\n",
    "for i in range(1,22,1):\n",
    "    driver.find_element_by_xpath('//*[@id=\"mount_0_0\"]/div/div/div[1]/div[3]/div/div/div[1]/div/div[4]/div[1]/div/div/div/div/div/div/div/div/div[1]/div/div[2]/div/div[5]/div/div/div[2]/div[3]/div/div[2]/span/span').click()\n",
    "    time.sleep(5)\n",
    "    print(i)"
   ]
  },
  {
   "cell_type": "code",
   "execution_count": null,
   "metadata": {},
   "outputs": [],
   "source": []
  },
  {
   "cell_type": "code",
   "execution_count": 12,
   "metadata": {},
   "outputs": [],
   "source": [
    "a=driver.current_url\n",
    "res=re.get(a)\n",
    "content=driver.page_source\n",
    "soup=BeautifulSoup(content,'lxml')\n",
    "all_box=soup.findAll('div',{'class':'tw6a2znq sj5x9vvc d1544ag0 cxgpxx05'})\n",
    "names=[]\n",
    "comment=[]\n",
    "co=[]\n",
    "no_of_comment=[]\n",
    "for box in all_box:\n",
    "    nm=box.find('span',{'class':'oi732d6d ik7dh3pa d2edcug0 qv66sw1b c1et5uql a8c37x1j hop8lmos enqfppq2 e9vueds3 j5wam9gi lrazzd5p oo9gr5id'})\n",
    "    names.append(nm.text)\n",
    "    com=box.get_text('a',{'class':'oajrlxb2 g5ia77u1 qu0x051f esr5mh6w e9989ue4 r7d6kgcz rq0escxv nhd2j8a9 nc684nl6 p7hjln8o kvgmc6g5 cxmmr5t8 oygrvhab hcukyx3x jb3vyjys rz4wbd8a qt6c0cv9 a8nywdso i1ao9s8h esuyzwwr f1sip0of lzcic4wl oo9gr5id gpro0wi8 lrazzd5p'})\n",
    "    comment.append(com)\n",
    "    com2=box.get_text(\" \")\n",
    "    co.append(com2)"
   ]
  },
  {
   "cell_type": "code",
   "execution_count": null,
   "metadata": {},
   "outputs": [],
   "source": []
  },
  {
   "cell_type": "code",
   "execution_count": null,
   "metadata": {},
   "outputs": [],
   "source": []
  },
  {
   "cell_type": "code",
   "execution_count": 13,
   "metadata": {},
   "outputs": [],
   "source": [
    "import pandas as pd\n",
    "dic={'Name':names,'Comments':comment,'Com':co}\n",
    "sol1=pd.DataFrame(dic)\n",
    "sol1.to_csv(r'C:\\Users\\Roshan\\Desktop\\name_append.csv',index=False)"
   ]
  },
  {
   "cell_type": "code",
   "execution_count": 14,
   "metadata": {},
   "outputs": [
    {
     "data": {
      "text/html": [
       "<div>\n",
       "<style scoped>\n",
       "    .dataframe tbody tr th:only-of-type {\n",
       "        vertical-align: middle;\n",
       "    }\n",
       "\n",
       "    .dataframe tbody tr th {\n",
       "        vertical-align: top;\n",
       "    }\n",
       "\n",
       "    .dataframe thead th {\n",
       "        text-align: right;\n",
       "    }\n",
       "</style>\n",
       "<table border=\"1\" class=\"dataframe\">\n",
       "  <thead>\n",
       "    <tr style=\"text-align: right;\">\n",
       "      <th></th>\n",
       "      <th>Name</th>\n",
       "      <th>Comments</th>\n",
       "      <th>Com</th>\n",
       "    </tr>\n",
       "  </thead>\n",
       "  <tbody>\n",
       "    <tr>\n",
       "      <th>0</th>\n",
       "      <td>Aarti Mishra Awasthi</td>\n",
       "      <td>Aarti Mishra AwasthiaWoooowwwww Best drawing f...</td>\n",
       "      <td>Aarti Mishra Awasthi Woooowwwww Best drawing f...</td>\n",
       "    </tr>\n",
       "    <tr>\n",
       "      <th>1</th>\n",
       "      <td>Sanjay Singh</td>\n",
       "      <td>Sanjay SinghaI really impressed witha#MC38a,a#...</td>\n",
       "      <td>Sanjay Singh I really impressed with  #MC38 , ...</td>\n",
       "    </tr>\n",
       "    <tr>\n",
       "      <th>2</th>\n",
       "      <td>Rohit Raj</td>\n",
       "      <td>Rohit RajaM16</td>\n",
       "      <td>Rohit Raj M16</td>\n",
       "    </tr>\n",
       "    <tr>\n",
       "      <th>3</th>\n",
       "      <td>Archana Gupta</td>\n",
       "      <td>Archana GuptaaBeautiful work and I vote for Di...</td>\n",
       "      <td>Archana Gupta Beautiful work and I vote for Di...</td>\n",
       "    </tr>\n",
       "    <tr>\n",
       "      <th>4</th>\n",
       "      <td>Ranjan Tripathi</td>\n",
       "      <td>Ranjan TripathiaM14</td>\n",
       "      <td>Ranjan Tripathi M14</td>\n",
       "    </tr>\n",
       "    <tr>\n",
       "      <th>...</th>\n",
       "      <td>...</td>\n",
       "      <td>...</td>\n",
       "      <td>...</td>\n",
       "    </tr>\n",
       "    <tr>\n",
       "      <th>703</th>\n",
       "      <td>Addya Gautam</td>\n",
       "      <td>Addya Gautama#MC38a#MC39a#MC40aare good</td>\n",
       "      <td>Addya Gautam #MC38   #MC39   #MC40  are good</td>\n",
       "    </tr>\n",
       "    <tr>\n",
       "      <th>704</th>\n",
       "      <td>Sheetal Singh</td>\n",
       "      <td>Sheetal Singha#MC38a#MC39#MC40</td>\n",
       "      <td>Sheetal Singh #MC38 #MC39#MC40</td>\n",
       "    </tr>\n",
       "    <tr>\n",
       "      <th>705</th>\n",
       "      <td>Shweta Sharma</td>\n",
       "      <td>Shweta Sharmaa# Mc38,Mc39Mct40 is good</td>\n",
       "      <td>Shweta Sharma # Mc38,Mc39Mct40 is good</td>\n",
       "    </tr>\n",
       "    <tr>\n",
       "      <th>706</th>\n",
       "      <td>Varsha Agnihotri</td>\n",
       "      <td>Varsha AgnihotriaBest drawings for me area#MC6...</td>\n",
       "      <td>Varsha Agnihotri Best drawings for me are #MC6...</td>\n",
       "    </tr>\n",
       "    <tr>\n",
       "      <th>707</th>\n",
       "      <td>Nandeeshiah B M</td>\n",
       "      <td>Nandeeshiah B MaBest drawing for me area#M6a,a...</td>\n",
       "      <td>Nandeeshiah B M Best drawing for me are  #M6 ,...</td>\n",
       "    </tr>\n",
       "  </tbody>\n",
       "</table>\n",
       "<p>708 rows × 3 columns</p>\n",
       "</div>"
      ],
      "text/plain": [
       "                     Name                                           Comments  \\\n",
       "0    Aarti Mishra Awasthi  Aarti Mishra AwasthiaWoooowwwww Best drawing f...   \n",
       "1            Sanjay Singh  Sanjay SinghaI really impressed witha#MC38a,a#...   \n",
       "2               Rohit Raj                                      Rohit RajaM16   \n",
       "3           Archana Gupta  Archana GuptaaBeautiful work and I vote for Di...   \n",
       "4         Ranjan Tripathi                                Ranjan TripathiaM14   \n",
       "..                    ...                                                ...   \n",
       "703          Addya Gautam            Addya Gautama#MC38a#MC39a#MC40aare good   \n",
       "704         Sheetal Singh                     Sheetal Singha#MC38a#MC39#MC40   \n",
       "705         Shweta Sharma             Shweta Sharmaa# Mc38,Mc39Mct40 is good   \n",
       "706      Varsha Agnihotri  Varsha AgnihotriaBest drawings for me area#MC6...   \n",
       "707       Nandeeshiah B M  Nandeeshiah B MaBest drawing for me area#M6a,a...   \n",
       "\n",
       "                                                   Com  \n",
       "0    Aarti Mishra Awasthi Woooowwwww Best drawing f...  \n",
       "1    Sanjay Singh I really impressed with  #MC38 , ...  \n",
       "2                                        Rohit Raj M16  \n",
       "3    Archana Gupta Beautiful work and I vote for Di...  \n",
       "4                                  Ranjan Tripathi M14  \n",
       "..                                                 ...  \n",
       "703       Addya Gautam #MC38   #MC39   #MC40  are good  \n",
       "704                     Sheetal Singh #MC38 #MC39#MC40  \n",
       "705             Shweta Sharma # Mc38,Mc39Mct40 is good  \n",
       "706  Varsha Agnihotri Best drawings for me are #MC6...  \n",
       "707  Nandeeshiah B M Best drawing for me are  #M6 ,...  \n",
       "\n",
       "[708 rows x 3 columns]"
      ]
     },
     "execution_count": 14,
     "metadata": {},
     "output_type": "execute_result"
    }
   ],
   "source": [
    "sol1"
   ]
  },
  {
   "cell_type": "code",
   "execution_count": null,
   "metadata": {},
   "outputs": [],
   "source": []
  },
  {
   "cell_type": "code",
   "execution_count": null,
   "metadata": {},
   "outputs": [],
   "source": []
  },
  {
   "cell_type": "code",
   "execution_count": null,
   "metadata": {},
   "outputs": [],
   "source": []
  },
  {
   "cell_type": "code",
   "execution_count": null,
   "metadata": {},
   "outputs": [],
   "source": []
  },
  {
   "cell_type": "code",
   "execution_count": null,
   "metadata": {},
   "outputs": [],
   "source": []
  },
  {
   "cell_type": "code",
   "execution_count": null,
   "metadata": {},
   "outputs": [],
   "source": []
  },
  {
   "cell_type": "code",
   "execution_count": null,
   "metadata": {},
   "outputs": [],
   "source": []
  },
  {
   "cell_type": "code",
   "execution_count": null,
   "metadata": {},
   "outputs": [],
   "source": []
  },
  {
   "cell_type": "code",
   "execution_count": null,
   "metadata": {},
   "outputs": [],
   "source": []
  },
  {
   "cell_type": "code",
   "execution_count": null,
   "metadata": {},
   "outputs": [],
   "source": []
  },
  {
   "cell_type": "code",
   "execution_count": null,
   "metadata": {},
   "outputs": [],
   "source": []
  },
  {
   "cell_type": "code",
   "execution_count": 81,
   "metadata": {},
   "outputs": [],
   "source": []
  },
  {
   "cell_type": "code",
   "execution_count": 104,
   "metadata": {},
   "outputs": [],
   "source": []
  },
  {
   "cell_type": "code",
   "execution_count": null,
   "metadata": {},
   "outputs": [],
   "source": []
  },
  {
   "cell_type": "code",
   "execution_count": null,
   "metadata": {},
   "outputs": [],
   "source": []
  },
  {
   "cell_type": "code",
   "execution_count": null,
   "metadata": {},
   "outputs": [],
   "source": []
  },
  {
   "cell_type": "code",
   "execution_count": null,
   "metadata": {},
   "outputs": [],
   "source": []
  },
  {
   "cell_type": "code",
   "execution_count": null,
   "metadata": {},
   "outputs": [],
   "source": []
  },
  {
   "cell_type": "code",
   "execution_count": null,
   "metadata": {},
   "outputs": [],
   "source": []
  },
  {
   "cell_type": "code",
   "execution_count": null,
   "metadata": {},
   "outputs": [],
   "source": []
  },
  {
   "cell_type": "code",
   "execution_count": 132,
   "metadata": {},
   "outputs": [],
   "source": []
  },
  {
   "cell_type": "code",
   "execution_count": null,
   "metadata": {},
   "outputs": [],
   "source": []
  },
  {
   "cell_type": "code",
   "execution_count": null,
   "metadata": {},
   "outputs": [],
   "source": []
  }
 ],
 "metadata": {
  "kernelspec": {
   "display_name": "Python 3",
   "language": "python",
   "name": "python3"
  },
  "language_info": {
   "codemirror_mode": {
    "name": "ipython",
    "version": 3
   },
   "file_extension": ".py",
   "mimetype": "text/x-python",
   "name": "python",
   "nbconvert_exporter": "python",
   "pygments_lexer": "ipython3",
   "version": "3.7.3"
  }
 },
 "nbformat": 4,
 "nbformat_minor": 2
}
