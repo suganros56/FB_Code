{
 "cells": [
  {
   "cell_type": "code",
   "execution_count": 1,
   "metadata": {},
   "outputs": [],
   "source": [
    "import pandas as pd\n",
    "import numpy as np\n",
    "import matplotlib.pyplot as plt\n",
    "%matplotlib inline\n",
    "import re as r"
   ]
  },
  {
   "cell_type": "code",
   "execution_count": 2,
   "metadata": {},
   "outputs": [],
   "source": [
    "data=pd.read_csv('C:/Users/Roshan/Desktop/name_append.csv')"
   ]
  },
  {
   "cell_type": "code",
   "execution_count": 3,
   "metadata": {},
   "outputs": [],
   "source": [
    "data['CAP']=data['Com'].str.upper()"
   ]
  },
  {
   "cell_type": "code",
   "execution_count": 81,
   "metadata": {},
   "outputs": [],
   "source": [
    "def pattern(pat1,pat2):\n",
    "    data['Vo_MC1']=data['CAP'].apply(lambda x:r.findall(pat1+'[0-9][0-9]?|'+pat1+' [0-9][0-9]?',x)[0] if r.findall(pat1+'[0-9][0-9]?|'+pat1+' [0-9][0-9]?',x)[:2] else 0)\n",
    "    data['Vo_MC2']=data['CAP'].apply(lambda x:r.findall(pat1+'[0-9][0-9]?|'+pat1+' [0-9][0-9]?',x)[1] if r.findall(pat1+'[0-9][0-9]?|'+pat1+' [0-9][0-9]?',x)[1:2] else 0)\n",
    "    data['Vo_MC3']=data['CAP'].apply(lambda x:r.findall(pat1+'[0-9][0-9]?|'+pat1+' [0-9][0-9]?',x)[2] if r.findall(pat1+'[0-9][0-9]?|'+pat1+' [0-9][0-9]?',x)[2:3] else 0)\n",
    "    data['Vo_M1']=data['CAP'].apply(lambda x:r.findall(pat2+'[0-9][0-9]?|'+pat2+' [0-9][0-9]?',x)[0] if r.findall(pat2+'[0-9][0-9]?|'+pat2+' [0-9][0-9]?',x)[:3] else 0)\n",
    "    data['Vo_M2']=data['CAP'].apply(lambda x:r.findall(pat2+'[0-9][0-9]?|'+pat2+' [0-9][0-9]?',x)[1] if r.findall(pat2+'[0-9][0-9]?|'+pat2+' [0-9][0-9]?',x)[1:3] else 0)\n",
    "    data['Vo_M3']=data['CAP'].apply(lambda x:r.findall(pat2+'[0-9][0-9]?|'+pat2+' [0-9][0-9]?',x)[2] if r.findall(pat2+'[0-9][0-9]?|'+pat2+' [0-9][0-9]?',x)[2:3] else 0)\n",
    "    \n",
    "pattern('MC','M')  \n",
    "#data.drop(['Com_MC{2}','Com_M{2}','Com_MC{1}','Com_num','new'],axis=1,inplace=True)"
   ]
  },
  {
   "cell_type": "code",
   "execution_count": 5,
   "metadata": {},
   "outputs": [
    {
     "data": {
      "text/plain": [
       "\"import re as r\\ndata['Com_MC{2}']=data['CAP'].apply(lambda x:r.findall('MC?[0-9][0-9]?',x) if r.findall('MC?[0-9][0-9]?',x) else '0,0,0')\\ndata['Com_M{2}']=data['CAP'].apply(lambda x:r.findall('M\\\\d{2}',x) if r.findall('M\\\\d{2}',x) else '0' )\\ndata['Com_MC{1}']=data['CAP'].apply(lambda x:r.findall('MC\\\\d{1}',x) if r.findall('MC\\\\d{1}',x) else '0')\\ndata['Com_M{1}']=data['CAP'].apply(lambda x:r.findall('M\\\\d{1}',x) if r.findall('M\\\\d{1}',x) else '0' )\\ndata['Com_num']=data['CAP'].apply(lambda x:r.findall('\\\\d{2}',x) if r.findall('\\\\d{2}',x) else '0' )\\ndata\""
      ]
     },
     "execution_count": 5,
     "metadata": {},
     "output_type": "execute_result"
    }
   ],
   "source": [
    "'''import re as r\n",
    "data['Com_MC{2}']=data['CAP'].apply(lambda x:r.findall('MC?[0-9][0-9]?',x) if r.findall('MC?[0-9][0-9]?',x) else '0,0,0')\n",
    "data['Com_M{2}']=data['CAP'].apply(lambda x:r.findall('M\\d{2}',x) if r.findall('M\\d{2}',x) else '0' )\n",
    "data['Com_MC{1}']=data['CAP'].apply(lambda x:r.findall('MC\\d{1}',x) if r.findall('MC\\d{1}',x) else '0')\n",
    "data['Com_M{1}']=data['CAP'].apply(lambda x:r.findall('M\\d{1}',x) if r.findall('M\\d{1}',x) else '0' )\n",
    "data['Com_num']=data['CAP'].apply(lambda x:r.findall('\\d{2}',x) if r.findall('\\d{2}',x) else '0' )\n",
    "data'''"
   ]
  },
  {
   "cell_type": "code",
   "execution_count": 75,
   "metadata": {},
   "outputs": [
    {
     "data": {
      "text/plain": [
       "'(\\\\w+),(\\\\w+),(\\\\w+)'"
      ]
     },
     "execution_count": 75,
     "metadata": {},
     "output_type": "execute_result"
    }
   ],
   "source": [
    "'(\\w+),(\\w+),(\\w+)'"
   ]
  },
  {
   "cell_type": "code",
   "execution_count": 82,
   "metadata": {},
   "outputs": [
    {
     "data": {
      "text/html": [
       "<div>\n",
       "<style scoped>\n",
       "    .dataframe tbody tr th:only-of-type {\n",
       "        vertical-align: middle;\n",
       "    }\n",
       "\n",
       "    .dataframe tbody tr th {\n",
       "        vertical-align: top;\n",
       "    }\n",
       "\n",
       "    .dataframe thead th {\n",
       "        text-align: right;\n",
       "    }\n",
       "</style>\n",
       "<table border=\"1\" class=\"dataframe\">\n",
       "  <thead>\n",
       "    <tr style=\"text-align: right;\">\n",
       "      <th></th>\n",
       "      <th>Name</th>\n",
       "      <th>Comments</th>\n",
       "      <th>Com</th>\n",
       "      <th>CAP</th>\n",
       "      <th>Vo_MC1</th>\n",
       "      <th>Vo_MC2</th>\n",
       "      <th>Vo_MC3</th>\n",
       "      <th>Vo_M1</th>\n",
       "      <th>Vo_M2</th>\n",
       "      <th>Vo_M3</th>\n",
       "    </tr>\n",
       "  </thead>\n",
       "  <tbody>\n",
       "    <tr>\n",
       "      <th>0</th>\n",
       "      <td>Aarti Mishra Awasthi</td>\n",
       "      <td>Aarti Mishra AwasthiaWoooowwwww Best drawing f...</td>\n",
       "      <td>Aarti Mishra Awasthi Woooowwwww Best drawing f...</td>\n",
       "      <td>AARTI MISHRA AWASTHI WOOOOWWWWW BEST DRAWING F...</td>\n",
       "      <td>MC41</td>\n",
       "      <td>MC42</td>\n",
       "      <td>MC43</td>\n",
       "      <td>0</td>\n",
       "      <td>0</td>\n",
       "      <td>0</td>\n",
       "    </tr>\n",
       "    <tr>\n",
       "      <th>1</th>\n",
       "      <td>Sanjay Singh</td>\n",
       "      <td>Sanjay SinghaI really impressed witha#MC38a,a#...</td>\n",
       "      <td>Sanjay Singh I really impressed with  #MC38 , ...</td>\n",
       "      <td>SANJAY SINGH I REALLY IMPRESSED WITH  #MC38 , ...</td>\n",
       "      <td>MC38</td>\n",
       "      <td>MC39</td>\n",
       "      <td>MC40</td>\n",
       "      <td>0</td>\n",
       "      <td>0</td>\n",
       "      <td>0</td>\n",
       "    </tr>\n",
       "    <tr>\n",
       "      <th>2</th>\n",
       "      <td>Rohit Raj</td>\n",
       "      <td>Rohit RajaM16</td>\n",
       "      <td>Rohit Raj M16</td>\n",
       "      <td>ROHIT RAJ M16</td>\n",
       "      <td>0</td>\n",
       "      <td>0</td>\n",
       "      <td>0</td>\n",
       "      <td>M16</td>\n",
       "      <td>0</td>\n",
       "      <td>0</td>\n",
       "    </tr>\n",
       "    <tr>\n",
       "      <th>3</th>\n",
       "      <td>Archana Gupta</td>\n",
       "      <td>Archana GuptaaBeautiful work and I vote for Di...</td>\n",
       "      <td>Archana Gupta Beautiful work and I vote for Di...</td>\n",
       "      <td>ARCHANA GUPTA BEAUTIFUL WORK AND I VOTE FOR DI...</td>\n",
       "      <td>MC35</td>\n",
       "      <td>MC36</td>\n",
       "      <td>MC37</td>\n",
       "      <td>0</td>\n",
       "      <td>0</td>\n",
       "      <td>0</td>\n",
       "    </tr>\n",
       "    <tr>\n",
       "      <th>4</th>\n",
       "      <td>Ranjan Tripathi</td>\n",
       "      <td>Ranjan TripathiaM14</td>\n",
       "      <td>Ranjan Tripathi M14</td>\n",
       "      <td>RANJAN TRIPATHI M14</td>\n",
       "      <td>0</td>\n",
       "      <td>0</td>\n",
       "      <td>0</td>\n",
       "      <td>M14</td>\n",
       "      <td>0</td>\n",
       "      <td>0</td>\n",
       "    </tr>\n",
       "    <tr>\n",
       "      <th>...</th>\n",
       "      <td>...</td>\n",
       "      <td>...</td>\n",
       "      <td>...</td>\n",
       "      <td>...</td>\n",
       "      <td>...</td>\n",
       "      <td>...</td>\n",
       "      <td>...</td>\n",
       "      <td>...</td>\n",
       "      <td>...</td>\n",
       "      <td>...</td>\n",
       "    </tr>\n",
       "    <tr>\n",
       "      <th>703</th>\n",
       "      <td>Addya Gautam</td>\n",
       "      <td>Addya Gautama#MC38a#MC39a#MC40aare good</td>\n",
       "      <td>Addya Gautam #MC38   #MC39   #MC40  are good</td>\n",
       "      <td>ADDYA GAUTAM #MC38   #MC39   #MC40  ARE GOOD</td>\n",
       "      <td>MC38</td>\n",
       "      <td>MC39</td>\n",
       "      <td>MC40</td>\n",
       "      <td>0</td>\n",
       "      <td>0</td>\n",
       "      <td>0</td>\n",
       "    </tr>\n",
       "    <tr>\n",
       "      <th>704</th>\n",
       "      <td>Sheetal Singh</td>\n",
       "      <td>Sheetal Singha#MC38a#MC39#MC40</td>\n",
       "      <td>Sheetal Singh #MC38 #MC39#MC40</td>\n",
       "      <td>SHEETAL SINGH #MC38 #MC39#MC40</td>\n",
       "      <td>MC38</td>\n",
       "      <td>MC39</td>\n",
       "      <td>MC40</td>\n",
       "      <td>0</td>\n",
       "      <td>0</td>\n",
       "      <td>0</td>\n",
       "    </tr>\n",
       "    <tr>\n",
       "      <th>705</th>\n",
       "      <td>Shweta Sharma</td>\n",
       "      <td>Shweta Sharmaa# Mc38,Mc39Mct40 is good</td>\n",
       "      <td>Shweta Sharma # Mc38,Mc39Mct40 is good</td>\n",
       "      <td>SHWETA SHARMA # MC38,MC39MCT40 IS GOOD</td>\n",
       "      <td>MC38</td>\n",
       "      <td>MC39</td>\n",
       "      <td>0</td>\n",
       "      <td>0</td>\n",
       "      <td>0</td>\n",
       "      <td>0</td>\n",
       "    </tr>\n",
       "    <tr>\n",
       "      <th>706</th>\n",
       "      <td>Varsha Agnihotri</td>\n",
       "      <td>Varsha AgnihotriaBest drawings for me area#MC6...</td>\n",
       "      <td>Varsha Agnihotri Best drawings for me are #MC6...</td>\n",
       "      <td>VARSHA AGNIHOTRI BEST DRAWINGS FOR ME ARE #MC6...</td>\n",
       "      <td>MC65</td>\n",
       "      <td>MC64</td>\n",
       "      <td>MC10</td>\n",
       "      <td>0</td>\n",
       "      <td>0</td>\n",
       "      <td>0</td>\n",
       "    </tr>\n",
       "    <tr>\n",
       "      <th>707</th>\n",
       "      <td>Nandeeshiah B M</td>\n",
       "      <td>Nandeeshiah B MaBest drawing for me area#M6a,a...</td>\n",
       "      <td>Nandeeshiah B M Best drawing for me are  #M6 ,...</td>\n",
       "      <td>NANDEESHIAH B M BEST DRAWING FOR ME ARE  #M6 ,...</td>\n",
       "      <td>MC11</td>\n",
       "      <td>MC10</td>\n",
       "      <td>0</td>\n",
       "      <td>M6</td>\n",
       "      <td>0</td>\n",
       "      <td>0</td>\n",
       "    </tr>\n",
       "  </tbody>\n",
       "</table>\n",
       "<p>636 rows × 10 columns</p>\n",
       "</div>"
      ],
      "text/plain": [
       "                     Name                                           Comments  \\\n",
       "0    Aarti Mishra Awasthi  Aarti Mishra AwasthiaWoooowwwww Best drawing f...   \n",
       "1            Sanjay Singh  Sanjay SinghaI really impressed witha#MC38a,a#...   \n",
       "2               Rohit Raj                                      Rohit RajaM16   \n",
       "3           Archana Gupta  Archana GuptaaBeautiful work and I vote for Di...   \n",
       "4         Ranjan Tripathi                                Ranjan TripathiaM14   \n",
       "..                    ...                                                ...   \n",
       "703          Addya Gautam            Addya Gautama#MC38a#MC39a#MC40aare good   \n",
       "704         Sheetal Singh                     Sheetal Singha#MC38a#MC39#MC40   \n",
       "705         Shweta Sharma             Shweta Sharmaa# Mc38,Mc39Mct40 is good   \n",
       "706      Varsha Agnihotri  Varsha AgnihotriaBest drawings for me area#MC6...   \n",
       "707       Nandeeshiah B M  Nandeeshiah B MaBest drawing for me area#M6a,a...   \n",
       "\n",
       "                                                   Com  \\\n",
       "0    Aarti Mishra Awasthi Woooowwwww Best drawing f...   \n",
       "1    Sanjay Singh I really impressed with  #MC38 , ...   \n",
       "2                                        Rohit Raj M16   \n",
       "3    Archana Gupta Beautiful work and I vote for Di...   \n",
       "4                                  Ranjan Tripathi M14   \n",
       "..                                                 ...   \n",
       "703       Addya Gautam #MC38   #MC39   #MC40  are good   \n",
       "704                     Sheetal Singh #MC38 #MC39#MC40   \n",
       "705             Shweta Sharma # Mc38,Mc39Mct40 is good   \n",
       "706  Varsha Agnihotri Best drawings for me are #MC6...   \n",
       "707  Nandeeshiah B M Best drawing for me are  #M6 ,...   \n",
       "\n",
       "                                                   CAP Vo_MC1 Vo_MC2 Vo_MC3  \\\n",
       "0    AARTI MISHRA AWASTHI WOOOOWWWWW BEST DRAWING F...   MC41   MC42   MC43   \n",
       "1    SANJAY SINGH I REALLY IMPRESSED WITH  #MC38 , ...   MC38   MC39   MC40   \n",
       "2                                        ROHIT RAJ M16      0      0      0   \n",
       "3    ARCHANA GUPTA BEAUTIFUL WORK AND I VOTE FOR DI...   MC35   MC36   MC37   \n",
       "4                                  RANJAN TRIPATHI M14      0      0      0   \n",
       "..                                                 ...    ...    ...    ...   \n",
       "703       ADDYA GAUTAM #MC38   #MC39   #MC40  ARE GOOD   MC38   MC39   MC40   \n",
       "704                     SHEETAL SINGH #MC38 #MC39#MC40   MC38   MC39   MC40   \n",
       "705             SHWETA SHARMA # MC38,MC39MCT40 IS GOOD   MC38   MC39      0   \n",
       "706  VARSHA AGNIHOTRI BEST DRAWINGS FOR ME ARE #MC6...   MC65   MC64   MC10   \n",
       "707  NANDEESHIAH B M BEST DRAWING FOR ME ARE  #M6 ,...   MC11   MC10      0   \n",
       "\n",
       "    Vo_M1 Vo_M2 Vo_M3  \n",
       "0       0     0     0  \n",
       "1       0     0     0  \n",
       "2     M16     0     0  \n",
       "3       0     0     0  \n",
       "4     M14     0     0  \n",
       "..    ...   ...   ...  \n",
       "703     0     0     0  \n",
       "704     0     0     0  \n",
       "705     0     0     0  \n",
       "706     0     0     0  \n",
       "707    M6     0     0  \n",
       "\n",
       "[636 rows x 10 columns]"
      ]
     },
     "execution_count": 82,
     "metadata": {},
     "output_type": "execute_result"
    }
   ],
   "source": [
    "data"
   ]
  },
  {
   "cell_type": "code",
   "execution_count": 83,
   "metadata": {},
   "outputs": [
    {
     "data": {
      "text/html": [
       "<div>\n",
       "<style scoped>\n",
       "    .dataframe tbody tr th:only-of-type {\n",
       "        vertical-align: middle;\n",
       "    }\n",
       "\n",
       "    .dataframe tbody tr th {\n",
       "        vertical-align: top;\n",
       "    }\n",
       "\n",
       "    .dataframe thead th {\n",
       "        text-align: right;\n",
       "    }\n",
       "</style>\n",
       "<table border=\"1\" class=\"dataframe\">\n",
       "  <thead>\n",
       "    <tr style=\"text-align: right;\">\n",
       "      <th></th>\n",
       "      <th>Vo_MC1</th>\n",
       "      <th>Vo_MC2</th>\n",
       "      <th>Vo_MC3</th>\n",
       "      <th>Vo_M1</th>\n",
       "      <th>Vo_M2</th>\n",
       "      <th>Vo_M3</th>\n",
       "    </tr>\n",
       "  </thead>\n",
       "  <tbody>\n",
       "    <tr>\n",
       "      <th>0</th>\n",
       "      <td>MC41</td>\n",
       "      <td>MC42</td>\n",
       "      <td>MC43</td>\n",
       "      <td>0</td>\n",
       "      <td>0</td>\n",
       "      <td>0</td>\n",
       "    </tr>\n",
       "    <tr>\n",
       "      <th>1</th>\n",
       "      <td>MC38</td>\n",
       "      <td>MC39</td>\n",
       "      <td>MC40</td>\n",
       "      <td>0</td>\n",
       "      <td>0</td>\n",
       "      <td>0</td>\n",
       "    </tr>\n",
       "    <tr>\n",
       "      <th>2</th>\n",
       "      <td>0</td>\n",
       "      <td>0</td>\n",
       "      <td>0</td>\n",
       "      <td>M16</td>\n",
       "      <td>0</td>\n",
       "      <td>0</td>\n",
       "    </tr>\n",
       "    <tr>\n",
       "      <th>3</th>\n",
       "      <td>MC35</td>\n",
       "      <td>MC36</td>\n",
       "      <td>MC37</td>\n",
       "      <td>0</td>\n",
       "      <td>0</td>\n",
       "      <td>0</td>\n",
       "    </tr>\n",
       "    <tr>\n",
       "      <th>4</th>\n",
       "      <td>0</td>\n",
       "      <td>0</td>\n",
       "      <td>0</td>\n",
       "      <td>M14</td>\n",
       "      <td>0</td>\n",
       "      <td>0</td>\n",
       "    </tr>\n",
       "    <tr>\n",
       "      <th>...</th>\n",
       "      <td>...</td>\n",
       "      <td>...</td>\n",
       "      <td>...</td>\n",
       "      <td>...</td>\n",
       "      <td>...</td>\n",
       "      <td>...</td>\n",
       "    </tr>\n",
       "    <tr>\n",
       "      <th>703</th>\n",
       "      <td>MC38</td>\n",
       "      <td>MC39</td>\n",
       "      <td>MC40</td>\n",
       "      <td>0</td>\n",
       "      <td>0</td>\n",
       "      <td>0</td>\n",
       "    </tr>\n",
       "    <tr>\n",
       "      <th>704</th>\n",
       "      <td>MC38</td>\n",
       "      <td>MC39</td>\n",
       "      <td>MC40</td>\n",
       "      <td>0</td>\n",
       "      <td>0</td>\n",
       "      <td>0</td>\n",
       "    </tr>\n",
       "    <tr>\n",
       "      <th>705</th>\n",
       "      <td>MC38</td>\n",
       "      <td>MC39</td>\n",
       "      <td>0</td>\n",
       "      <td>0</td>\n",
       "      <td>0</td>\n",
       "      <td>0</td>\n",
       "    </tr>\n",
       "    <tr>\n",
       "      <th>706</th>\n",
       "      <td>MC65</td>\n",
       "      <td>MC64</td>\n",
       "      <td>MC10</td>\n",
       "      <td>0</td>\n",
       "      <td>0</td>\n",
       "      <td>0</td>\n",
       "    </tr>\n",
       "    <tr>\n",
       "      <th>707</th>\n",
       "      <td>MC11</td>\n",
       "      <td>MC10</td>\n",
       "      <td>0</td>\n",
       "      <td>M6</td>\n",
       "      <td>0</td>\n",
       "      <td>0</td>\n",
       "    </tr>\n",
       "  </tbody>\n",
       "</table>\n",
       "<p>636 rows × 6 columns</p>\n",
       "</div>"
      ],
      "text/plain": [
       "    Vo_MC1 Vo_MC2 Vo_MC3 Vo_M1 Vo_M2 Vo_M3\n",
       "0     MC41   MC42   MC43     0     0     0\n",
       "1     MC38   MC39   MC40     0     0     0\n",
       "2        0      0      0   M16     0     0\n",
       "3     MC35   MC36   MC37     0     0     0\n",
       "4        0      0      0   M14     0     0\n",
       "..     ...    ...    ...   ...   ...   ...\n",
       "703   MC38   MC39   MC40     0     0     0\n",
       "704   MC38   MC39   MC40     0     0     0\n",
       "705   MC38   MC39      0     0     0     0\n",
       "706   MC65   MC64   MC10     0     0     0\n",
       "707   MC11   MC10      0    M6     0     0\n",
       "\n",
       "[636 rows x 6 columns]"
      ]
     },
     "execution_count": 83,
     "metadata": {},
     "output_type": "execute_result"
    }
   ],
   "source": [
    "data[['Vo_MC1','Vo_MC2','Vo_MC3','Vo_M1','Vo_M2','Vo_M3']]"
   ]
  },
  {
   "cell_type": "code",
   "execution_count": 85,
   "metadata": {
    "scrolled": true
   },
   "outputs": [],
   "source": [
    "df2=data.drop_duplicates(subset =\"Name\", \n",
    "                     keep = 'last',inplace=True)\n",
    "#df.drop_duplicates(subset='Name',keep='last')\n"
   ]
  },
  {
   "cell_type": "code",
   "execution_count": 86,
   "metadata": {},
   "outputs": [
    {
     "data": {
      "text/plain": [
       "Name        636\n",
       "Comments    636\n",
       "Com         636\n",
       "CAP         636\n",
       "Vo_MC1       33\n",
       "Vo_MC2       29\n",
       "Vo_MC3       22\n",
       "Vo_M1        17\n",
       "Vo_M2        10\n",
       "Vo_M3         8\n",
       "dtype: int64"
      ]
     },
     "execution_count": 86,
     "metadata": {},
     "output_type": "execute_result"
    }
   ],
   "source": [
    "data.nunique(axis=0)"
   ]
  },
  {
   "cell_type": "code",
   "execution_count": 88,
   "metadata": {},
   "outputs": [
    {
     "data": {
      "text/plain": [
       "['Name',\n",
       " 'Comments',\n",
       " 'Com',\n",
       " 'CAP',\n",
       " 'Vo_MC1',\n",
       " 'Vo_MC2',\n",
       " 'Vo_MC3',\n",
       " 'Vo_M1',\n",
       " 'Vo_M2',\n",
       " 'Vo_M3']"
      ]
     },
     "execution_count": 88,
     "metadata": {},
     "output_type": "execute_result"
    }
   ],
   "source": [
    "co=data.columns.tolist()\n",
    "co"
   ]
  },
  {
   "cell_type": "code",
   "execution_count": 89,
   "metadata": {},
   "outputs": [
    {
     "data": {
      "text/plain": [
       "['Vo_MC1', 'Vo_MC2', 'Vo_MC3', 'Vo_M1', 'Vo_M2', 'Vo_M3']"
      ]
     },
     "execution_count": 89,
     "metadata": {},
     "output_type": "execute_result"
    }
   ],
   "source": [
    "cols=[cname for cname in co if cname not in ['Name','Comments','Com','CAP']]\n",
    "cols"
   ]
  },
  {
   "cell_type": "code",
   "execution_count": 90,
   "metadata": {},
   "outputs": [
    {
     "data": {
      "text/plain": [
       "MC38     134\n",
       "MC39     129\n",
       "MC40     118\n",
       "MC43      47\n",
       "MC42      46\n",
       "MC41      45\n",
       "MC33      40\n",
       "MC46      31\n",
       "MC16      31\n",
       "MC49      28\n",
       "MC47      27\n",
       "MC35      19\n",
       "MC36      17\n",
       "MC37      16\n",
       "MC57      15\n",
       "MC58      13\n",
       "MC11      11\n",
       "MC 49     10\n",
       "MC61       9\n",
       "MC10       9\n",
       "MC70       8\n",
       "MC 47      8\n",
       "MC59       6\n",
       "MC 46      6\n",
       "MC 58      6\n",
       "MC20       5\n",
       "MC71       5\n",
       "MC72       5\n",
       "MC9        5\n",
       "MC 59      3\n",
       "MC 43      3\n",
       "MC 16      2\n",
       "MC 33      2\n",
       "MC 57      2\n",
       "MC 41      2\n",
       "MC 38      2\n",
       "MC48       1\n",
       "MC 61      1\n",
       "MC24       1\n",
       "MC14       1\n",
       "MC 45      1\n",
       "MC50       1\n",
       "MC2        1\n",
       "MC 48      1\n",
       "MC6        1\n",
       "MC30       1\n",
       "MC15       1\n",
       "MC64       1\n",
       "MC 42      1\n",
       "MC65       1\n",
       "MC 40      1\n",
       "MC56       1\n",
       "MC7        1\n",
       "MC55       1\n",
       "dtype: int64"
      ]
     },
     "execution_count": 90,
     "metadata": {},
     "output_type": "execute_result"
    }
   ],
   "source": [
    "Win_MC=data['Vo_MC1'].append(data['Vo_MC2']).append(data['Vo_MC3']).value_counts()[1:]\n",
    "#print('The winners of the competitions are:')\n",
    "win_MC.sort_values(ascending=False)"
   ]
  },
  {
   "cell_type": "code",
   "execution_count": 92,
   "metadata": {},
   "outputs": [
    {
     "data": {
      "text/plain": [
       "M14     147\n",
       "M 14     41\n",
       "M16      40\n",
       "M11      38\n",
       "M10      19\n",
       "M40      14\n",
       "M6       10\n",
       "M57       8\n",
       "M12       7\n",
       "M58       6\n",
       "M59       6\n",
       "M8        5\n",
       "M9        3\n",
       "M 16      2\n",
       "M47       2\n",
       "M49       2\n",
       "M46       2\n",
       "M 12      1\n",
       "M38       1\n",
       "M5        1\n",
       "M 10      1\n",
       "M2        1\n",
       "M13       1\n",
       "dtype: int64"
      ]
     },
     "execution_count": 92,
     "metadata": {},
     "output_type": "execute_result"
    }
   ],
   "source": [
    "Win_M=data['Vo_M1'].append(data['Vo_M2']).append(data['Vo_M3']).value_counts()[1:]\n",
    "#print('The winners of the competitions are:')\n",
    "win_M.sort_values(ascending=False)"
   ]
  },
  {
   "cell_type": "code",
   "execution_count": 93,
   "metadata": {},
   "outputs": [
    {
     "data": {
      "text/plain": [
       "['MC38',\n",
       " 'MC39',\n",
       " 'MC40',\n",
       " 'MC43',\n",
       " 'MC42',\n",
       " 'MC41',\n",
       " 'MC33',\n",
       " 'MC46',\n",
       " 'MC16',\n",
       " 'MC49',\n",
       " 'MC47',\n",
       " 'MC35',\n",
       " 'MC36',\n",
       " 'MC37',\n",
       " 'MC57',\n",
       " 'MC58',\n",
       " 'MC11',\n",
       " 'MC 49',\n",
       " 'MC61',\n",
       " 'MC10',\n",
       " 'MC70',\n",
       " 'MC 47',\n",
       " 'MC59',\n",
       " 'MC 46',\n",
       " 'MC 58',\n",
       " 'MC20',\n",
       " 'MC71',\n",
       " 'MC72',\n",
       " 'MC9',\n",
       " 'MC 59',\n",
       " 'MC 43',\n",
       " 'MC 33',\n",
       " 'MC 57',\n",
       " 'MC 41',\n",
       " 'MC 38',\n",
       " 'MC 16',\n",
       " 'MC7',\n",
       " 'MC56',\n",
       " 'MC 40',\n",
       " 'MC30',\n",
       " 'MC65',\n",
       " 'MC 42',\n",
       " 'MC64',\n",
       " 'MC15',\n",
       " 'MC 48',\n",
       " 'MC6',\n",
       " 'MC48',\n",
       " 'MC 61',\n",
       " 'MC24',\n",
       " 'MC 45',\n",
       " 'MC50',\n",
       " 'MC2',\n",
       " 'MC14',\n",
       " 'MC55']"
      ]
     },
     "execution_count": 93,
     "metadata": {},
     "output_type": "execute_result"
    }
   ],
   "source": [
    "group_values=list(win_MC.values)\n",
    "group_values\n",
    "group_data=list(win_MC.keys())\n",
    "group_data"
   ]
  },
  {
   "cell_type": "code",
   "execution_count": 94,
   "metadata": {},
   "outputs": [
    {
     "data": {
      "text/plain": [
       "['M14',\n",
       " 'M 14',\n",
       " 'M16',\n",
       " 'M11',\n",
       " 'M10',\n",
       " 'M40',\n",
       " 'M6',\n",
       " 'M57',\n",
       " 'M12',\n",
       " 'M59',\n",
       " 'M58',\n",
       " 'M8',\n",
       " 'M9',\n",
       " 'M 16',\n",
       " 'M47',\n",
       " 'M49',\n",
       " 'M46',\n",
       " 'M38',\n",
       " 'M5',\n",
       " 'M 10',\n",
       " 'M2',\n",
       " 'M 12',\n",
       " 'M13']"
      ]
     },
     "execution_count": 94,
     "metadata": {},
     "output_type": "execute_result"
    }
   ],
   "source": [
    "group_valM=list(win_M.values)\n",
    "group_dataM=list(win_M.keys())\n",
    "group_dataM"
   ]
  },
  {
   "cell_type": "code",
   "execution_count": 98,
   "metadata": {},
   "outputs": [
    {
     "data": {
      "image/png": "[encoded data removed]",
      "text/plain": [
       "<Figure size 1440x1080 with 1 Axes>"
      ]
     },
     "metadata": {
      "needs_background": "light"
     },
     "output_type": "display_data"
    }
   ],
   "source": [
    "fig=plt.figure(figsize=(20,15))\n",
    "plt.xlabel('No_votes_per_image')\n",
    "plt.title('VOTE DISTRIBUTION',fontsize=20)\n",
    "plt.barh(group_data,group_values)\n",
    "for index, value in enumerate(group_values):\n",
    "    plt.text(value, index, str(value))"
   ]
  },
  {
   "cell_type": "code",
   "execution_count": 99,
   "metadata": {},
   "outputs": [
    {
     "data": {
      "image/png": "[encoded data removed]",
      "text/plain": [
       "<Figure size 1440x720 with 1 Axes>"
      ]
     },
     "metadata": {
      "needs_background": "light"
     },
     "output_type": "display_data"
    }
   ],
   "source": [
    "fig=plt.figure(figsize=(20,10))\n",
    "plt.xlabel('No_votes_per_image')\n",
    "plt.title('VOTE DISTRIBUTION',fontsize=20)\n",
    "plt.barh(group_dataM,group_valM)\n",
    "for index, value in enumerate(group_valM):\n",
    "    plt.text(value, index, str(value))"
   ]
  },
  {
   "cell_type": "code",
   "execution_count": 101,
   "metadata": {},
   "outputs": [
    {
     "name": "stdout",
     "output_type": "stream",
     "text": [
      "The winners are:\n",
      "MC38    134\n",
      "MC39    129\n",
      "MC40    118\n",
      "dtype: int64\n"
     ]
    }
   ],
   "source": [
    "print('The winners are:')\n",
    "print(win_MC[:3])"
   ]
  },
  {
   "cell_type": "code",
   "execution_count": 102,
   "metadata": {},
   "outputs": [
    {
     "name": "stdout",
     "output_type": "stream",
     "text": [
      "The winners are:\n",
      "M14     147\n",
      "M 14     41\n",
      "M16      40\n",
      "M11      38\n",
      "dtype: int64\n"
     ]
    }
   ],
   "source": [
    "print('The winners are:')\n",
    "print(win_M[:4])"
   ]
  },
  {
   "cell_type": "code",
   "execution_count": null,
   "metadata": {},
   "outputs": [],
   "source": []
  },
  {
   "cell_type": "code",
   "execution_count": null,
   "metadata": {},
   "outputs": [],
   "source": []
  },
  {
   "cell_type": "code",
   "execution_count": null,
   "metadata": {},
   "outputs": [],
   "source": []
  },
  {
   "cell_type": "code",
   "execution_count": null,
   "metadata": {},
   "outputs": [],
   "source": []
  },
  {
   "cell_type": "code",
   "execution_count": null,
   "metadata": {},
   "outputs": [],
   "source": []
  },
  {
   "cell_type": "code",
   "execution_count": null,
   "metadata": {},
   "outputs": [],
   "source": []
  },
  {
   "cell_type": "code",
   "execution_count": null,
   "metadata": {},
   "outputs": [],
   "source": []
  },
  {
   "cell_type": "code",
   "execution_count": null,
   "metadata": {},
   "outputs": [],
   "source": []
  },
  {
   "cell_type": "code",
   "execution_count": null,
   "metadata": {},
   "outputs": [],
   "source": []
  },
  {
   "cell_type": "code",
   "execution_count": null,
   "metadata": {},
   "outputs": [],
   "source": []
  },
  {
   "cell_type": "code",
   "execution_count": null,
   "metadata": {},
   "outputs": [],
   "source": []
  },
  {
   "cell_type": "code",
   "execution_count": null,
   "metadata": {},
   "outputs": [],
   "source": []
  },
  {
   "cell_type": "code",
   "execution_count": 56,
   "metadata": {},
   "outputs": [
    {
     "data": {
      "image/png": "[encoded data removed]",
      "text/plain": [
       "<Figure size 1440x720 with 1 Axes>"
      ]
     },
     "metadata": {
      "needs_background": "light"
     },
     "output_type": "display_data"
    }
   ],
   "source": [
    "fig=plt.figure(figsize=(20,10))\n",
    "plt.barh(group_data,group_values)\n",
    "for index, value in enumerate(group_values):\n",
    "    plt.text(value, index, str(value))"
   ]
  },
  {
   "cell_type": "code",
   "execution_count": 69,
   "metadata": {},
   "outputs": [
    {
     "data": {
      "image/png": "[encoded data removed]",
      "text/plain": [
       "<Figure size 1440x720 with 1 Axes>"
      ]
     },
     "metadata": {
      "needs_background": "light"
     },
     "output_type": "display_data"
    }
   ],
   "source": [
    "fig=plt.figure(figsize=(20,10))\n",
    "plt.barh(group_dataM,group_valM)\n",
    "for index, value in enumerate(group_valM):\n",
    "    plt.text(value, index, str(value))"
   ]
  },
  {
   "cell_type": "code",
   "execution_count": null,
   "metadata": {},
   "outputs": [],
   "source": []
  }
 ],
 "metadata": {
  "kernelspec": {
   "display_name": "Python 3",
   "language": "python",
   "name": "python3"
  },
  "language_info": {
   "codemirror_mode": {
    "name": "ipython",
    "version": 3
   },
   "file_extension": ".py",
   "mimetype": "text/x-python",
   "name": "python",
   "nbconvert_exporter": "python",
   "pygments_lexer": "ipython3",
   "version": "3.7.3"
  }
 },
 "nbformat": 4,
 "nbformat_minor": 2
}
